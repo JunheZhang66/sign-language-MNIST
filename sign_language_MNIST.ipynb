{
 "cells": [
  {
   "cell_type": "markdown",
   "metadata": {},
   "source": [
    "<h1><center> DATS6450 Final Project Sign-Language MNIST Problem</center></h1>\n",
    "<center> Group 8</center>\n",
    "<center> Present by: Junhe Zhang</center>\n",
    "<center> Due: 11/30</center>\n"
   ]
  },
  {
   "cell_type": "markdown",
   "metadata": {},
   "source": [
    "# Introduction of Sign-Language MNIST Problem (American Sign Language)\n",
    "\n",
    "American Sign Language (ASL) is a complete natural language that has the similar linguistic properties as spoken language. ASL use hand movements combined with special gestures and face expressions to deliver their thought. ASL is the primary language of many North Americans who have speaking or hearing issues. The training and testing datasets which provided by Kaggle.com contains approximately 35,000 data points about 25 different gestures which represent alphabetic letters from A-Z without letter J and Z because of gesture motions issue. The datasets come with .CSV format which have 785 columns. The first column indicates the corresponding alphabetic letters label (from 0-25) and the rest of 784 columns represent 28x28 image pixels.  "
   ]
  },
  {
   "cell_type": "markdown",
   "metadata": {},
   "source": [
    "<div style=\"text-align:center\"><img src=\"https://encrypted-tbn0.gstatic.com/images?q=tbn:ANd9GcQ6X3YuMamMSOulZ8lXSjmR6dXPB4jW1XKE3Q&usqp=CAU\" /></div>"
   ]
  },
  {
   "cell_type": "markdown",
   "metadata": {},
   "source": [
    "# Project Objective\n",
    "\n",
    "The goal of this project is to utilize the GPU computational power, which obtained from AWS GPU instance, to process large dataset on deep neuron network model. In order to construct an accurate NN-model to correctly classify new coming ASL data points. This model could be used to create large YOLO format dataset for future real-time Object detection purpose study."
   ]
  },
  {
   "cell_type": "markdown",
   "metadata": {},
   "source": [
    "# Import necessary external library"
   ]
  },
  {
   "cell_type": "code",
   "execution_count": 53,
   "metadata": {},
   "outputs": [
    {
     "name": "stdout",
     "output_type": "stream",
     "text": [
      "/home/ubuntu/sign-language-MNIST/sign_language_MNIST.ipynb\n",
      "/home/ubuntu/sign-language-MNIST/dataset/sign_mnist_train.csv\n",
      "/home/ubuntu/sign-language-MNIST/dataset/american_sign_language.PNG\n",
      "/home/ubuntu/sign-language-MNIST/dataset/sign_mnist_test.csv\n",
      "/home/ubuntu/sign-language-MNIST/dataset/amer_sign2.png\n",
      "/home/ubuntu/sign-language-MNIST/dataset/amer_sign3.png\n",
      "/home/ubuntu/sign-language-MNIST/dataset/sign_mnist_test/sign_mnist_test.csv\n",
      "/home/ubuntu/sign-language-MNIST/dataset/sign_mnist_train/sign_mnist_train.csv\n",
      "/home/ubuntu/sign-language-MNIST/.ipynb_checkpoints/sign_language_MNIST-checkpoint.ipynb\n"
     ]
    }
   ],
   "source": [
    "# import useful libraries\n",
    "\n",
    "import numpy as np \n",
    "import pandas as pd # reading dataset into dataframe\n",
    "\n",
    "# Input data files are available in the \"../dataset/\" directory.\n",
    "# Display all sub-folder under current working directory, sign-language-MNIST\n",
    "\n",
    "import os\n",
    "for dirname, _, filenames in os.walk(os.getcwd()):\n",
    "    for filename in filenames:\n",
    "        print(os.path.join(dirname, filename))\n"
   ]
  },
  {
   "cell_type": "code",
   "execution_count": 54,
   "metadata": {},
   "outputs": [],
   "source": [
    "import matplotlib.pyplot as plt\n",
    "import seaborn as sns\n",
    "import keras\n",
    "from keras.models import Sequential\n",
    "from keras.layers import Dense, Conv2D , MaxPool2D , Flatten , Dropout , BatchNormalization\n",
    "from keras.preprocessing.image import ImageDataGenerator\n",
    "from sklearn.model_selection import train_test_split\n",
    "from sklearn.metrics import classification_report,confusion_matrix\n",
    "from keras.callbacks import ReduceLROnPlateau"
   ]
  },
  {
   "cell_type": "markdown",
   "metadata": {},
   "source": [
    "## Loading Data into Data Frame"
   ]
  },
  {
   "cell_type": "code",
   "execution_count": 55,
   "metadata": {},
   "outputs": [],
   "source": [
    "train_df = pd.read_csv(\"./dataset/sign_mnist_train.csv\")"
   ]
  },
  {
   "cell_type": "code",
   "execution_count": 56,
   "metadata": {},
   "outputs": [
    {
     "data": {
      "text/html": [
       "<div>\n",
       "<style scoped>\n",
       "    .dataframe tbody tr th:only-of-type {\n",
       "        vertical-align: middle;\n",
       "    }\n",
       "\n",
       "    .dataframe tbody tr th {\n",
       "        vertical-align: top;\n",
       "    }\n",
       "\n",
       "    .dataframe thead th {\n",
       "        text-align: right;\n",
       "    }\n",
       "</style>\n",
       "<table border=\"1\" class=\"dataframe\">\n",
       "  <thead>\n",
       "    <tr style=\"text-align: right;\">\n",
       "      <th></th>\n",
       "      <th>label</th>\n",
       "      <th>pixel1</th>\n",
       "      <th>pixel2</th>\n",
       "      <th>pixel3</th>\n",
       "      <th>pixel4</th>\n",
       "      <th>pixel5</th>\n",
       "      <th>pixel6</th>\n",
       "      <th>pixel7</th>\n",
       "      <th>pixel8</th>\n",
       "      <th>pixel9</th>\n",
       "      <th>...</th>\n",
       "      <th>pixel775</th>\n",
       "      <th>pixel776</th>\n",
       "      <th>pixel777</th>\n",
       "      <th>pixel778</th>\n",
       "      <th>pixel779</th>\n",
       "      <th>pixel780</th>\n",
       "      <th>pixel781</th>\n",
       "      <th>pixel782</th>\n",
       "      <th>pixel783</th>\n",
       "      <th>pixel784</th>\n",
       "    </tr>\n",
       "  </thead>\n",
       "  <tbody>\n",
       "    <tr>\n",
       "      <th>0</th>\n",
       "      <td>3</td>\n",
       "      <td>107</td>\n",
       "      <td>118</td>\n",
       "      <td>127</td>\n",
       "      <td>134</td>\n",
       "      <td>139</td>\n",
       "      <td>143</td>\n",
       "      <td>146</td>\n",
       "      <td>150</td>\n",
       "      <td>153</td>\n",
       "      <td>...</td>\n",
       "      <td>207</td>\n",
       "      <td>207</td>\n",
       "      <td>207</td>\n",
       "      <td>207</td>\n",
       "      <td>206</td>\n",
       "      <td>206</td>\n",
       "      <td>206</td>\n",
       "      <td>204</td>\n",
       "      <td>203</td>\n",
       "      <td>202</td>\n",
       "    </tr>\n",
       "    <tr>\n",
       "      <th>1</th>\n",
       "      <td>6</td>\n",
       "      <td>155</td>\n",
       "      <td>157</td>\n",
       "      <td>156</td>\n",
       "      <td>156</td>\n",
       "      <td>156</td>\n",
       "      <td>157</td>\n",
       "      <td>156</td>\n",
       "      <td>158</td>\n",
       "      <td>158</td>\n",
       "      <td>...</td>\n",
       "      <td>69</td>\n",
       "      <td>149</td>\n",
       "      <td>128</td>\n",
       "      <td>87</td>\n",
       "      <td>94</td>\n",
       "      <td>163</td>\n",
       "      <td>175</td>\n",
       "      <td>103</td>\n",
       "      <td>135</td>\n",
       "      <td>149</td>\n",
       "    </tr>\n",
       "    <tr>\n",
       "      <th>2</th>\n",
       "      <td>2</td>\n",
       "      <td>187</td>\n",
       "      <td>188</td>\n",
       "      <td>188</td>\n",
       "      <td>187</td>\n",
       "      <td>187</td>\n",
       "      <td>186</td>\n",
       "      <td>187</td>\n",
       "      <td>188</td>\n",
       "      <td>187</td>\n",
       "      <td>...</td>\n",
       "      <td>202</td>\n",
       "      <td>201</td>\n",
       "      <td>200</td>\n",
       "      <td>199</td>\n",
       "      <td>198</td>\n",
       "      <td>199</td>\n",
       "      <td>198</td>\n",
       "      <td>195</td>\n",
       "      <td>194</td>\n",
       "      <td>195</td>\n",
       "    </tr>\n",
       "    <tr>\n",
       "      <th>3</th>\n",
       "      <td>2</td>\n",
       "      <td>211</td>\n",
       "      <td>211</td>\n",
       "      <td>212</td>\n",
       "      <td>212</td>\n",
       "      <td>211</td>\n",
       "      <td>210</td>\n",
       "      <td>211</td>\n",
       "      <td>210</td>\n",
       "      <td>210</td>\n",
       "      <td>...</td>\n",
       "      <td>235</td>\n",
       "      <td>234</td>\n",
       "      <td>233</td>\n",
       "      <td>231</td>\n",
       "      <td>230</td>\n",
       "      <td>226</td>\n",
       "      <td>225</td>\n",
       "      <td>222</td>\n",
       "      <td>229</td>\n",
       "      <td>163</td>\n",
       "    </tr>\n",
       "    <tr>\n",
       "      <th>4</th>\n",
       "      <td>13</td>\n",
       "      <td>164</td>\n",
       "      <td>167</td>\n",
       "      <td>170</td>\n",
       "      <td>172</td>\n",
       "      <td>176</td>\n",
       "      <td>179</td>\n",
       "      <td>180</td>\n",
       "      <td>184</td>\n",
       "      <td>185</td>\n",
       "      <td>...</td>\n",
       "      <td>92</td>\n",
       "      <td>105</td>\n",
       "      <td>105</td>\n",
       "      <td>108</td>\n",
       "      <td>133</td>\n",
       "      <td>163</td>\n",
       "      <td>157</td>\n",
       "      <td>163</td>\n",
       "      <td>164</td>\n",
       "      <td>179</td>\n",
       "    </tr>\n",
       "  </tbody>\n",
       "</table>\n",
       "<p>5 rows × 785 columns</p>\n",
       "</div>"
      ],
      "text/plain": [
       "   label  pixel1  pixel2  pixel3  pixel4  pixel5  pixel6  pixel7  pixel8  \\\n",
       "0      3     107     118     127     134     139     143     146     150   \n",
       "1      6     155     157     156     156     156     157     156     158   \n",
       "2      2     187     188     188     187     187     186     187     188   \n",
       "3      2     211     211     212     212     211     210     211     210   \n",
       "4     13     164     167     170     172     176     179     180     184   \n",
       "\n",
       "   pixel9  ...  pixel775  pixel776  pixel777  pixel778  pixel779  pixel780  \\\n",
       "0     153  ...       207       207       207       207       206       206   \n",
       "1     158  ...        69       149       128        87        94       163   \n",
       "2     187  ...       202       201       200       199       198       199   \n",
       "3     210  ...       235       234       233       231       230       226   \n",
       "4     185  ...        92       105       105       108       133       163   \n",
       "\n",
       "   pixel781  pixel782  pixel783  pixel784  \n",
       "0       206       204       203       202  \n",
       "1       175       103       135       149  \n",
       "2       198       195       194       195  \n",
       "3       225       222       229       163  \n",
       "4       157       163       164       179  \n",
       "\n",
       "[5 rows x 785 columns]"
      ]
     },
     "execution_count": 56,
     "metadata": {},
     "output_type": "execute_result"
    }
   ],
   "source": [
    "# show 5 data points from train\n",
    "train_df.head(5)"
   ]
  },
  {
   "cell_type": "code",
   "execution_count": 57,
   "metadata": {},
   "outputs": [],
   "source": [
    "test_df = pd.read_csv(\"./dataset/sign_mnist_test.csv\")"
   ]
  },
  {
   "cell_type": "code",
   "execution_count": 58,
   "metadata": {
    "scrolled": true
   },
   "outputs": [
    {
     "data": {
      "text/html": [
       "<div>\n",
       "<style scoped>\n",
       "    .dataframe tbody tr th:only-of-type {\n",
       "        vertical-align: middle;\n",
       "    }\n",
       "\n",
       "    .dataframe tbody tr th {\n",
       "        vertical-align: top;\n",
       "    }\n",
       "\n",
       "    .dataframe thead th {\n",
       "        text-align: right;\n",
       "    }\n",
       "</style>\n",
       "<table border=\"1\" class=\"dataframe\">\n",
       "  <thead>\n",
       "    <tr style=\"text-align: right;\">\n",
       "      <th></th>\n",
       "      <th>label</th>\n",
       "      <th>pixel1</th>\n",
       "      <th>pixel2</th>\n",
       "      <th>pixel3</th>\n",
       "      <th>pixel4</th>\n",
       "      <th>pixel5</th>\n",
       "      <th>pixel6</th>\n",
       "      <th>pixel7</th>\n",
       "      <th>pixel8</th>\n",
       "      <th>pixel9</th>\n",
       "      <th>...</th>\n",
       "      <th>pixel775</th>\n",
       "      <th>pixel776</th>\n",
       "      <th>pixel777</th>\n",
       "      <th>pixel778</th>\n",
       "      <th>pixel779</th>\n",
       "      <th>pixel780</th>\n",
       "      <th>pixel781</th>\n",
       "      <th>pixel782</th>\n",
       "      <th>pixel783</th>\n",
       "      <th>pixel784</th>\n",
       "    </tr>\n",
       "  </thead>\n",
       "  <tbody>\n",
       "    <tr>\n",
       "      <th>0</th>\n",
       "      <td>6</td>\n",
       "      <td>149</td>\n",
       "      <td>149</td>\n",
       "      <td>150</td>\n",
       "      <td>150</td>\n",
       "      <td>150</td>\n",
       "      <td>151</td>\n",
       "      <td>151</td>\n",
       "      <td>150</td>\n",
       "      <td>151</td>\n",
       "      <td>...</td>\n",
       "      <td>138</td>\n",
       "      <td>148</td>\n",
       "      <td>127</td>\n",
       "      <td>89</td>\n",
       "      <td>82</td>\n",
       "      <td>96</td>\n",
       "      <td>106</td>\n",
       "      <td>112</td>\n",
       "      <td>120</td>\n",
       "      <td>107</td>\n",
       "    </tr>\n",
       "    <tr>\n",
       "      <th>1</th>\n",
       "      <td>5</td>\n",
       "      <td>126</td>\n",
       "      <td>128</td>\n",
       "      <td>131</td>\n",
       "      <td>132</td>\n",
       "      <td>133</td>\n",
       "      <td>134</td>\n",
       "      <td>135</td>\n",
       "      <td>135</td>\n",
       "      <td>136</td>\n",
       "      <td>...</td>\n",
       "      <td>47</td>\n",
       "      <td>104</td>\n",
       "      <td>194</td>\n",
       "      <td>183</td>\n",
       "      <td>186</td>\n",
       "      <td>184</td>\n",
       "      <td>184</td>\n",
       "      <td>184</td>\n",
       "      <td>182</td>\n",
       "      <td>180</td>\n",
       "    </tr>\n",
       "    <tr>\n",
       "      <th>2</th>\n",
       "      <td>10</td>\n",
       "      <td>85</td>\n",
       "      <td>88</td>\n",
       "      <td>92</td>\n",
       "      <td>96</td>\n",
       "      <td>105</td>\n",
       "      <td>123</td>\n",
       "      <td>135</td>\n",
       "      <td>143</td>\n",
       "      <td>147</td>\n",
       "      <td>...</td>\n",
       "      <td>68</td>\n",
       "      <td>166</td>\n",
       "      <td>242</td>\n",
       "      <td>227</td>\n",
       "      <td>230</td>\n",
       "      <td>227</td>\n",
       "      <td>226</td>\n",
       "      <td>225</td>\n",
       "      <td>224</td>\n",
       "      <td>222</td>\n",
       "    </tr>\n",
       "    <tr>\n",
       "      <th>3</th>\n",
       "      <td>0</td>\n",
       "      <td>203</td>\n",
       "      <td>205</td>\n",
       "      <td>207</td>\n",
       "      <td>206</td>\n",
       "      <td>207</td>\n",
       "      <td>209</td>\n",
       "      <td>210</td>\n",
       "      <td>209</td>\n",
       "      <td>210</td>\n",
       "      <td>...</td>\n",
       "      <td>154</td>\n",
       "      <td>248</td>\n",
       "      <td>247</td>\n",
       "      <td>248</td>\n",
       "      <td>253</td>\n",
       "      <td>236</td>\n",
       "      <td>230</td>\n",
       "      <td>240</td>\n",
       "      <td>253</td>\n",
       "      <td>255</td>\n",
       "    </tr>\n",
       "    <tr>\n",
       "      <th>4</th>\n",
       "      <td>3</td>\n",
       "      <td>188</td>\n",
       "      <td>191</td>\n",
       "      <td>193</td>\n",
       "      <td>195</td>\n",
       "      <td>199</td>\n",
       "      <td>201</td>\n",
       "      <td>202</td>\n",
       "      <td>203</td>\n",
       "      <td>203</td>\n",
       "      <td>...</td>\n",
       "      <td>26</td>\n",
       "      <td>40</td>\n",
       "      <td>64</td>\n",
       "      <td>48</td>\n",
       "      <td>29</td>\n",
       "      <td>46</td>\n",
       "      <td>49</td>\n",
       "      <td>46</td>\n",
       "      <td>46</td>\n",
       "      <td>53</td>\n",
       "    </tr>\n",
       "  </tbody>\n",
       "</table>\n",
       "<p>5 rows × 785 columns</p>\n",
       "</div>"
      ],
      "text/plain": [
       "   label  pixel1  pixel2  pixel3  pixel4  pixel5  pixel6  pixel7  pixel8  \\\n",
       "0      6     149     149     150     150     150     151     151     150   \n",
       "1      5     126     128     131     132     133     134     135     135   \n",
       "2     10      85      88      92      96     105     123     135     143   \n",
       "3      0     203     205     207     206     207     209     210     209   \n",
       "4      3     188     191     193     195     199     201     202     203   \n",
       "\n",
       "   pixel9  ...  pixel775  pixel776  pixel777  pixel778  pixel779  pixel780  \\\n",
       "0     151  ...       138       148       127        89        82        96   \n",
       "1     136  ...        47       104       194       183       186       184   \n",
       "2     147  ...        68       166       242       227       230       227   \n",
       "3     210  ...       154       248       247       248       253       236   \n",
       "4     203  ...        26        40        64        48        29        46   \n",
       "\n",
       "   pixel781  pixel782  pixel783  pixel784  \n",
       "0       106       112       120       107  \n",
       "1       184       184       182       180  \n",
       "2       226       225       224       222  \n",
       "3       230       240       253       255  \n",
       "4        49        46        46        53  \n",
       "\n",
       "[5 rows x 785 columns]"
      ]
     },
     "execution_count": 58,
     "metadata": {},
     "output_type": "execute_result"
    }
   ],
   "source": [
    "# show 5 data points from test\n",
    "test_df.head(5)"
   ]
  },
  {
   "cell_type": "markdown",
   "metadata": {},
   "source": [
    "## Exploratory Data Analysis and Preprocessing"
   ]
  },
  {
   "cell_type": "markdown",
   "metadata": {},
   "source": [
    "### Check for balance between Labels\n",
    "\n",
    "It is very important to know whether the training dataset is balanced or not between each classification label. An imbalance dataset would cause the NN-model to study the features that only belong to the most common data points (gestures in our case), and cause the evaluation process less reliable. To solve this problem, image augmentation technics must be taken placed."
   ]
  },
  {
   "cell_type": "code",
   "execution_count": 59,
   "metadata": {},
   "outputs": [
    {
     "data": {
      "text/plain": [
       "Text(0.5, 1.0, 'Count VS Label')"
      ]
     },
     "execution_count": 59,
     "metadata": {},
     "output_type": "execute_result"
    },
    {
     "data": {
      "image/png": "[encoded data removed]",
      "text/plain": [
       "<Figure size 1080x720 with 1 Axes>"
      ]
     },
     "metadata": {},
     "output_type": "display_data"
    }
   ],
   "source": [
    "plt.figure(figsize = (15,10)) # Label Count\n",
    "sns.set_style(\"whitegrid\")\n",
    "\n",
    "sns.countplot(train_df['label']).set_title('Count VS Label')"
   ]
  },
  {
   "cell_type": "markdown",
   "metadata": {},
   "source": [
    "The training dataset seems to be balanced."
   ]
  },
  {
   "cell_type": "markdown",
   "metadata": {},
   "source": [
    "## Seperating Independent and dependent Variables"
   ]
  },
  {
   "cell_type": "code",
   "execution_count": 60,
   "metadata": {},
   "outputs": [],
   "source": [
    "y_train = train_df['label']\n",
    "y_test = test_df['label']\n",
    "del train_df['label']\n",
    "del test_df['label']"
   ]
  },
  {
   "cell_type": "code",
   "execution_count": 61,
   "metadata": {},
   "outputs": [
    {
     "data": {
      "text/plain": [
       "0         3\n",
       "1         6\n",
       "2         2\n",
       "3         2\n",
       "4        13\n",
       "         ..\n",
       "27450    13\n",
       "27451    23\n",
       "27452    18\n",
       "27453    17\n",
       "27454    23\n",
       "Name: label, Length: 27455, dtype: int64"
      ]
     },
     "execution_count": 61,
     "metadata": {},
     "output_type": "execute_result"
    }
   ],
   "source": [
    "# before encoding\n",
    "y_train"
   ]
  },
  {
   "cell_type": "markdown",
   "metadata": {},
   "source": [
    "## Using One-Hot Encoder to encode Labels"
   ]
  },
  {
   "cell_type": "code",
   "execution_count": 62,
   "metadata": {},
   "outputs": [],
   "source": [
    "from sklearn.preprocessing import LabelBinarizer\n",
    "label_binarizer = LabelBinarizer()\n",
    "y_train = label_binarizer.fit_transform(y_train)\n",
    "y_test = label_binarizer.fit_transform(y_test)"
   ]
  },
  {
   "cell_type": "code",
   "execution_count": 63,
   "metadata": {},
   "outputs": [
    {
     "data": {
      "text/plain": [
       "array([[0, 0, 0, ..., 0, 0, 0],\n",
       "       [0, 0, 0, ..., 0, 0, 0],\n",
       "       [0, 0, 1, ..., 0, 0, 0],\n",
       "       ...,\n",
       "       [0, 0, 0, ..., 0, 0, 0],\n",
       "       [0, 0, 0, ..., 0, 0, 0],\n",
       "       [0, 0, 0, ..., 0, 1, 0]])"
      ]
     },
     "execution_count": 63,
     "metadata": {},
     "output_type": "execute_result"
    }
   ],
   "source": [
    "# after encoding\n",
    "y_train"
   ]
  },
  {
   "cell_type": "code",
   "execution_count": 64,
   "metadata": {},
   "outputs": [],
   "source": [
    "x_train = train_df.values\n",
    "x_test = test_df.values"
   ]
  },
  {
   "cell_type": "code",
   "execution_count": 65,
   "metadata": {},
   "outputs": [
    {
     "data": {
      "text/plain": [
       "array([[107, 118, 127, ..., 204, 203, 202],\n",
       "       [155, 157, 156, ..., 103, 135, 149],\n",
       "       [187, 188, 188, ..., 195, 194, 195],\n",
       "       ...,\n",
       "       [174, 174, 174, ..., 202, 200, 200],\n",
       "       [177, 181, 184, ...,  64,  87,  93],\n",
       "       [179, 180, 180, ..., 205, 209, 215]])"
      ]
     },
     "execution_count": 65,
     "metadata": {},
     "output_type": "execute_result"
    }
   ],
   "source": [
    "x_train"
   ]
  },
  {
   "cell_type": "markdown",
   "metadata": {},
   "source": [
    "## Display input image before Normalization and Resizing"
   ]
  },
  {
   "cell_type": "code",
   "execution_count": 66,
   "metadata": {},
   "outputs": [
    {
     "data": {
      "image/png": "[encoded data removed]",
      "text/plain": [
       "<Figure size 720x720 with 15 Axes>"
      ]
     },
     "metadata": {},
     "output_type": "display_data"
    }
   ],
   "source": [
    "row, col = 3, 5\n",
    "f, ax = plt.subplots(row, col) \n",
    "f.set_size_inches(10, 10)\n",
    "k = 10\n",
    "for i in range(row):\n",
    "    for j in range(col):\n",
    "        ax[i,j].imshow(x_train[k].reshape(28, 28), cmap = \"gray\")\n",
    "        k += 1\n",
    "    plt.tight_layout()  "
   ]
  },
  {
   "cell_type": "markdown",
   "metadata": {},
   "source": [
    "### Data Normalization\n",
    "\n",
    "Normalize data could significantly increase the performance of neuron network when calculating gradients during back propergation. Since all pixel values are in the range between 0-255 (RGB values are between 0-255), divide the data points by 255 could change each pixel value to range 0-1."
   ]
  },
  {
   "cell_type": "code",
   "execution_count": 67,
   "metadata": {},
   "outputs": [],
   "source": [
    "# Normalize the data\n",
    "x_train = x_train / 255\n",
    "x_test = x_test / 255"
   ]
  },
  {
   "cell_type": "code",
   "execution_count": 68,
   "metadata": {},
   "outputs": [
    {
     "data": {
      "text/plain": [
       "array([[0.41960784, 0.4627451 , 0.49803922, ..., 0.8       , 0.79607843,\n",
       "        0.79215686],\n",
       "       [0.60784314, 0.61568627, 0.61176471, ..., 0.40392157, 0.52941176,\n",
       "        0.58431373],\n",
       "       [0.73333333, 0.7372549 , 0.7372549 , ..., 0.76470588, 0.76078431,\n",
       "        0.76470588],\n",
       "       ...,\n",
       "       [0.68235294, 0.68235294, 0.68235294, ..., 0.79215686, 0.78431373,\n",
       "        0.78431373],\n",
       "       [0.69411765, 0.70980392, 0.72156863, ..., 0.25098039, 0.34117647,\n",
       "        0.36470588],\n",
       "       [0.70196078, 0.70588235, 0.70588235, ..., 0.80392157, 0.81960784,\n",
       "        0.84313725]])"
      ]
     },
     "execution_count": 68,
     "metadata": {},
     "output_type": "execute_result"
    }
   ],
   "source": [
    "x_train"
   ]
  },
  {
   "cell_type": "markdown",
   "metadata": {},
   "source": [
    "### Reshape Data into 3-D"
   ]
  },
  {
   "cell_type": "markdown",
   "metadata": {},
   "source": [
    "Since we are going to use Convolutional Neuron Network (CNN), which is a very powerful neuron network that design to process image data. We need to change the input shape to normal image data format which is (batch size, width, height, channel)"
   ]
  },
  {
   "cell_type": "code",
   "execution_count": 69,
   "metadata": {},
   "outputs": [],
   "source": [
    "# Reshaping the data from 1-D to 3-D as required through input by CNN's\n",
    "x_train = x_train.reshape(-1,28,28,1)\n",
    "x_test = x_test.reshape(-1,28,28,1)"
   ]
  },
  {
   "cell_type": "code",
   "execution_count": 70,
   "metadata": {},
   "outputs": [
    {
     "data": {
      "text/plain": [
       "(27455, 28, 28, 1)"
      ]
     },
     "execution_count": 70,
     "metadata": {},
     "output_type": "execute_result"
    }
   ],
   "source": [
    "# after reshaping\n",
    "x_train.shape"
   ]
  },
  {
   "cell_type": "markdown",
   "metadata": {},
   "source": [
    "## Display input image after normalization and resizing"
   ]
  },
  {
   "cell_type": "code",
   "execution_count": 71,
   "metadata": {},
   "outputs": [
    {
     "data": {
      "image/png": "[encoded data removed]",
      "text/plain": [
       "<Figure size 720x720 with 15 Axes>"
      ]
     },
     "metadata": {},
     "output_type": "display_data"
    }
   ],
   "source": [
    "row, col = 3, 5\n",
    "f, ax = plt.subplots(row, col) \n",
    "f.set_size_inches(10, 10)\n",
    "k = 10\n",
    "for i in range(row):\n",
    "    for j in range(col):\n",
    "        ax[i,j].imshow(x_train[k].reshape(28, 28) , cmap = \"gray\")\n",
    "        k += 1\n",
    "    plt.tight_layout()  "
   ]
  },
  {
   "cell_type": "markdown",
   "metadata": {},
   "source": [
    "All features have been capture and reserved after data processing. Only the scale of the pixels get shrunked."
   ]
  },
  {
   "cell_type": "markdown",
   "metadata": {},
   "source": [
    "## Split Training Data into Training and Validation\n",
    "\n",
    "All the data points are precious, it is always a good idea to split training data into training and validation so that we have more untouched data points for validations."
   ]
  },
  {
   "cell_type": "code",
   "execution_count": 72,
   "metadata": {},
   "outputs": [],
   "source": [
    "from sklearn.model_selection import train_test_split"
   ]
  },
  {
   "cell_type": "code",
   "execution_count": 73,
   "metadata": {},
   "outputs": [],
   "source": [
    "x_train, x_valid, y_train, y_valid = train_test_split(x_train, y_train, test_size=0.33, random_state=42)"
   ]
  },
  {
   "cell_type": "markdown",
   "metadata": {},
   "source": [
    "## Image data Augmentation\n",
    "\n",
    "Although our dataset seem to be balance, inorder to train our model to become more accurate and robust it is always a good idea to do data augmentation. Since the hand angle is important in ASL, I choose to only rotate the input image in a small degree. Because the size of hand does not matter too much I also decide to zoom in and out the image in a small range. The hand position could also be shifted in a small range. The key point for data augmentation is to protect the main feature of the input image in the meantime generate more valuable training data."
   ]
  },
  {
   "cell_type": "code",
   "execution_count": 74,
   "metadata": {},
   "outputs": [],
   "source": [
    "# With data augmentation to prevent overfitting\n",
    "\n",
    "datagen = ImageDataGenerator(\n",
    "        featurewise_center=False,  # set input mean to 0 over the dataset\n",
    "        samplewise_center=False,  # set each sample mean to 0\n",
    "        featurewise_std_normalization=False,  # divide inputs by std of the dataset\n",
    "        samplewise_std_normalization=False,  # divide each input by its std\n",
    "        zca_whitening=False,  # apply ZCA whitening\n",
    "        rotation_range=10,  # randomly rotate images in the range (degrees, 0 to 180)\n",
    "        zoom_range = 0.2, # Randomly zoom image \n",
    "        width_shift_range=0.2,  # randomly shift images horizontally (fraction of total width)\n",
    "        height_shift_range=0.2,  # randomly shift images vertically (fraction of total height)\n",
    "        horizontal_flip=False,  # randomly flip images\n",
    "        vertical_flip=False)  # randomly flip images\n",
    "\n",
    "\n",
    "datagen.fit(x_train)"
   ]
  },
  {
   "cell_type": "code",
   "execution_count": 75,
   "metadata": {},
   "outputs": [
    {
     "data": {
      "text/plain": [
       "array([[[[0.45098039],\n",
       "         [0.4745098 ],\n",
       "         [0.49803922],\n",
       "         ...,\n",
       "         [0.56470588],\n",
       "         [0.55686275],\n",
       "         [0.55294118]],\n",
       "\n",
       "        [[0.45098039],\n",
       "         [0.4745098 ],\n",
       "         [0.50196078],\n",
       "         ...,\n",
       "         [0.56862745],\n",
       "         [0.56470588],\n",
       "         [0.56078431]],\n",
       "\n",
       "        [[0.45882353],\n",
       "         [0.48627451],\n",
       "         [0.50980392],\n",
       "         ...,\n",
       "         [0.57254902],\n",
       "         [0.56862745],\n",
       "         [0.56862745]],\n",
       "\n",
       "        ...,\n",
       "\n",
       "        [[0.34117647],\n",
       "         [0.3372549 ],\n",
       "         [0.32941176],\n",
       "         ...,\n",
       "         [0.69803922],\n",
       "         [0.60784314],\n",
       "         [0.53333333]],\n",
       "\n",
       "        [[0.34117647],\n",
       "         [0.34509804],\n",
       "         [0.34117647],\n",
       "         ...,\n",
       "         [0.67843137],\n",
       "         [0.64313725],\n",
       "         [0.53333333]],\n",
       "\n",
       "        [[0.34117647],\n",
       "         [0.34117647],\n",
       "         [0.34117647],\n",
       "         ...,\n",
       "         [0.5372549 ],\n",
       "         [0.63921569],\n",
       "         [0.64313725]]],\n",
       "\n",
       "\n",
       "       [[[0.62352941],\n",
       "         [0.62352941],\n",
       "         [0.62745098],\n",
       "         ...,\n",
       "         [0.58431373],\n",
       "         [0.58823529],\n",
       "         [0.58431373]],\n",
       "\n",
       "        [[0.62352941],\n",
       "         [0.63137255],\n",
       "         [0.63529412],\n",
       "         ...,\n",
       "         [0.59607843],\n",
       "         [0.59215686],\n",
       "         [0.58823529]],\n",
       "\n",
       "        [[0.63137255],\n",
       "         [0.63921569],\n",
       "         [0.64313725],\n",
       "         ...,\n",
       "         [0.61176471],\n",
       "         [0.60392157],\n",
       "         [0.59607843]],\n",
       "\n",
       "        ...,\n",
       "\n",
       "        [[0.7254902 ],\n",
       "         [0.72941176],\n",
       "         [0.72941176],\n",
       "         ...,\n",
       "         [0.70980392],\n",
       "         [0.70588235],\n",
       "         [0.70196078]],\n",
       "\n",
       "        [[0.7254902 ],\n",
       "         [0.73333333],\n",
       "         [0.72941176],\n",
       "         ...,\n",
       "         [0.70980392],\n",
       "         [0.70588235],\n",
       "         [0.70196078]],\n",
       "\n",
       "        [[0.7254902 ],\n",
       "         [0.72941176],\n",
       "         [0.7254902 ],\n",
       "         ...,\n",
       "         [0.71372549],\n",
       "         [0.70588235],\n",
       "         [0.70196078]]],\n",
       "\n",
       "\n",
       "       [[[0.32156863],\n",
       "         [0.34901961],\n",
       "         [0.39607843],\n",
       "         ...,\n",
       "         [0.64705882],\n",
       "         [0.65098039],\n",
       "         [0.65098039]],\n",
       "\n",
       "        [[0.32156863],\n",
       "         [0.34901961],\n",
       "         [0.40392157],\n",
       "         ...,\n",
       "         [0.64705882],\n",
       "         [0.65098039],\n",
       "         [0.65490196]],\n",
       "\n",
       "        [[0.3254902 ],\n",
       "         [0.35686275],\n",
       "         [0.41176471],\n",
       "         ...,\n",
       "         [0.65490196],\n",
       "         [0.65490196],\n",
       "         [0.65882353]],\n",
       "\n",
       "        ...,\n",
       "\n",
       "        [[0.43921569],\n",
       "         [0.4745098 ],\n",
       "         [0.49803922],\n",
       "         ...,\n",
       "         [0.75686275],\n",
       "         [0.75686275],\n",
       "         [0.75686275]],\n",
       "\n",
       "        [[0.44313725],\n",
       "         [0.47843137],\n",
       "         [0.50196078],\n",
       "         ...,\n",
       "         [0.76078431],\n",
       "         [0.76078431],\n",
       "         [0.76470588]],\n",
       "\n",
       "        [[0.44705882],\n",
       "         [0.4745098 ],\n",
       "         [0.50196078],\n",
       "         ...,\n",
       "         [0.76470588],\n",
       "         [0.76470588],\n",
       "         [0.76470588]]],\n",
       "\n",
       "\n",
       "       ...,\n",
       "\n",
       "\n",
       "       [[[0.75686275],\n",
       "         [0.76078431],\n",
       "         [0.76470588],\n",
       "         ...,\n",
       "         [0.76470588],\n",
       "         [0.76470588],\n",
       "         [0.76470588]],\n",
       "\n",
       "        [[0.75686275],\n",
       "         [0.76470588],\n",
       "         [0.77254902],\n",
       "         ...,\n",
       "         [0.77254902],\n",
       "         [0.76862745],\n",
       "         [0.76862745]],\n",
       "\n",
       "        [[0.76078431],\n",
       "         [0.76862745],\n",
       "         [0.77647059],\n",
       "         ...,\n",
       "         [0.78039216],\n",
       "         [0.77647059],\n",
       "         [0.77647059]],\n",
       "\n",
       "        ...,\n",
       "\n",
       "        [[0.81960784],\n",
       "         [0.83529412],\n",
       "         [0.82745098],\n",
       "         ...,\n",
       "         [0.85490196],\n",
       "         [0.85098039],\n",
       "         [0.84705882]],\n",
       "\n",
       "        [[0.64313725],\n",
       "         [0.66666667],\n",
       "         [0.61960784],\n",
       "         ...,\n",
       "         [0.60784314],\n",
       "         [0.6       ],\n",
       "         [0.6       ]],\n",
       "\n",
       "        [[0.54117647],\n",
       "         [0.53333333],\n",
       "         [0.54901961],\n",
       "         ...,\n",
       "         [0.4745098 ],\n",
       "         [0.47058824],\n",
       "         [0.45882353]]],\n",
       "\n",
       "\n",
       "       [[[0.78431373],\n",
       "         [0.78823529],\n",
       "         [0.78039216],\n",
       "         ...,\n",
       "         [0.17254902],\n",
       "         [0.25490196],\n",
       "         [0.63921569]],\n",
       "\n",
       "        [[0.78823529],\n",
       "         [0.79215686],\n",
       "         [0.78823529],\n",
       "         ...,\n",
       "         [0.10980392],\n",
       "         [0.41568627],\n",
       "         [0.70588235]],\n",
       "\n",
       "        [[0.8       ],\n",
       "         [0.8       ],\n",
       "         [0.8       ],\n",
       "         ...,\n",
       "         [0.10196078],\n",
       "         [0.50196078],\n",
       "         [0.70980392]],\n",
       "\n",
       "        ...,\n",
       "\n",
       "        [[0.44313725],\n",
       "         [0.54901961],\n",
       "         [0.85882353],\n",
       "         ...,\n",
       "         [0.32156863],\n",
       "         [0.19607843],\n",
       "         [0.40392157]],\n",
       "\n",
       "        [[0.43137255],\n",
       "         [0.62352941],\n",
       "         [0.90980392],\n",
       "         ...,\n",
       "         [0.30980392],\n",
       "         [0.27058824],\n",
       "         [0.22745098]],\n",
       "\n",
       "        [[0.48235294],\n",
       "         [0.50980392],\n",
       "         [0.76470588],\n",
       "         ...,\n",
       "         [0.49803922],\n",
       "         [0.27843137],\n",
       "         [0.23529412]]],\n",
       "\n",
       "\n",
       "       [[[0.44705882],\n",
       "         [0.48235294],\n",
       "         [0.51764706],\n",
       "         ...,\n",
       "         [0.89019608],\n",
       "         [0.89411765],\n",
       "         [0.89019608]],\n",
       "\n",
       "        [[0.52156863],\n",
       "         [0.49411765],\n",
       "         [0.52156863],\n",
       "         ...,\n",
       "         [0.89411765],\n",
       "         [0.89411765],\n",
       "         [0.89411765]],\n",
       "\n",
       "        [[0.73333333],\n",
       "         [0.53333333],\n",
       "         [0.4745098 ],\n",
       "         ...,\n",
       "         [0.89803922],\n",
       "         [0.90196078],\n",
       "         [0.89803922]],\n",
       "\n",
       "        ...,\n",
       "\n",
       "        [[0.41568627],\n",
       "         [0.44313725],\n",
       "         [0.46666667],\n",
       "         ...,\n",
       "         [0.30588235],\n",
       "         [0.23137255],\n",
       "         [0.34509804]],\n",
       "\n",
       "        [[0.61176471],\n",
       "         [0.61960784],\n",
       "         [0.63921569],\n",
       "         ...,\n",
       "         [0.25882353],\n",
       "         [0.16078431],\n",
       "         [0.49803922]],\n",
       "\n",
       "        [[0.70588235],\n",
       "         [0.69019608],\n",
       "         [0.70980392],\n",
       "         ...,\n",
       "         [0.19607843],\n",
       "         [0.04705882],\n",
       "         [0.37647059]]]])"
      ]
     },
     "execution_count": 75,
     "metadata": {},
     "output_type": "execute_result"
    }
   ],
   "source": [
    "x_train"
   ]
  },
  {
   "cell_type": "code",
   "execution_count": 76,
   "metadata": {},
   "outputs": [
    {
     "data": {
      "text/plain": [
       "18394"
      ]
     },
     "execution_count": 76,
     "metadata": {},
     "output_type": "execute_result"
    }
   ],
   "source": [
    "len(x_train)"
   ]
  },
  {
   "cell_type": "markdown",
   "metadata": {},
   "source": [
    "## Hyperparameters"
   ]
  },
  {
   "cell_type": "code",
   "execution_count": 46,
   "metadata": {},
   "outputs": [],
   "source": [
    "# all the parameters could be changed as your wish\n",
    "monitor = 'val_accuracy' # since our data is balanced, using accuracy is a greate measurement\n",
    "patience = 2\n",
    "verbose = 1\n",
    "factor = 0.5\n",
    "min_lr = 0.0001"
   ]
  },
  {
   "cell_type": "markdown",
   "metadata": {},
   "source": [
    "### Prevent High Learning Rate Unconverge issue\n",
    "\n",
    "In order to avoid unconverge stage during training, using reduce learning rate helper function is a great approach. This will initalize the learning rate to a relatively high value and reduce it is unconverge happen."
   ]
  },
  {
   "cell_type": "code",
   "execution_count": 47,
   "metadata": {},
   "outputs": [],
   "source": [
    "learning_rate_reduction = ReduceLROnPlateau(monitor=monitor, patience = patience, verbose=verbose,factor=factor, min_lr=min_lr)"
   ]
  },
  {
   "cell_type": "markdown",
   "metadata": {},
   "source": [
    "## Construct CNN model Using Keras\n",
    "\n",
    "Keras is an extension of Tensorflow framework, which abstract many tedious Tensorflow process in a user friendly manner. Significantly increase the speed of building a neural network, at the expense of a litte customization ability of the Tensorflow."
   ]
  },
  {
   "cell_type": "markdown",
   "metadata": {},
   "source": [
    "## Convolutional Neural Network (CNN)\n",
    "\n",
    "Compare to vanila version Multi-layer Perceptron, CNN apply a special type of layer called convolutional layer which is essentially a 2D filter matrix that will be performing matrix multiplication operation to the 2D image input. The 2D filter will slides through the entire image from top-left to bottom-right and extract the information from the input. The input image will be disassembled during the convolutional process and finally process as a whole during the finally dense layers (Fully-connected). Information are from <a href=\"https://towardsdatascience.com/simple-introduction-to-convolutional-neural-networks-cdf8d3077bac\">Dr. Matthew Stewart's Blog Post</a>"
   ]
  },
  {
   "cell_type": "markdown",
   "metadata": {},
   "source": [
    "<div style=\"text-align:center\"><img src=\"https://miro.medium.com/max/700/1*1Cw9nKcdKV5YQun-e4F8gQ.png\" /></div>\n",
    "<div style=\"text-align:center\">MLP VS CNN</div>"
   ]
  },
  {
   "cell_type": "markdown",
   "metadata": {},
   "source": [
    "<div style=\"text-align:center\"><img src=\"https://miro.medium.com/max/700/1*RmglbLeNDWSHbdrtrysfbw.png\" /></div>\n",
    "<div style=\"text-align:center\">Examples of filter (kernal) of CNN</div>"
   ]
  },
  {
   "cell_type": "markdown",
   "metadata": {},
   "source": [
    "<div style=\"text-align:center\"><img src=\"https://miro.medium.com/max/700/1*LTRcAyl6zuuJvpU-5KECZA.png\" /></div>\n",
    "<div style=\"text-align:center\">Examples of CNN layer structure</div>"
   ]
  },
  {
   "cell_type": "markdown",
   "metadata": {},
   "source": [
    "## Construct CNN Model\n",
    "\n",
    "Most of the high accuracy modern CNN structure's contain 3 convolutional layers and using RELU as activation function. Between each convolutional layer, a max pooling layer is applied to shrunk the size of the inputs come from convolutional layer. Dropout layer can add some randomness to the training process so that the trained model could be more robust and perform better on future coming data. In the end, there should always be at least 2 fully connected layers to conclude the result of each training epoch. \n",
    "\n",
    "It is always a good idea to start with someone else's well desigend neural network structures that solve the similar problems. This model structure was inspired by <a href=\"https://www.kaggle.com/madz2000/cnn-using-keras-100-accuracy/notebook#Training-The-Model\"> Mr.Madz's Post</a>."
   ]
  },
  {
   "cell_type": "code",
   "execution_count": 91,
   "metadata": {},
   "outputs": [
    {
     "name": "stdout",
     "output_type": "stream",
     "text": [
      "Model: \"sequential_2\"\n",
      "_________________________________________________________________\n",
      "Layer (type)                 Output Shape              Param #   \n",
      "=================================================================\n",
      "conv2d_6 (Conv2D)            (None, 28, 28, 75)        750       \n",
      "_________________________________________________________________\n",
      "batch_normalization_6 (Batch (None, 28, 28, 75)        300       \n",
      "_________________________________________________________________\n",
      "max_pooling2d_6 (MaxPooling2 (None, 14, 14, 75)        0         \n",
      "_________________________________________________________________\n",
      "conv2d_7 (Conv2D)            (None, 14, 14, 50)        33800     \n",
      "_________________________________________________________________\n",
      "dropout_4 (Dropout)          (None, 14, 14, 50)        0         \n",
      "_________________________________________________________________\n",
      "batch_normalization_7 (Batch (None, 14, 14, 50)        200       \n",
      "_________________________________________________________________\n",
      "max_pooling2d_7 (MaxPooling2 (None, 7, 7, 50)          0         \n",
      "_________________________________________________________________\n",
      "conv2d_8 (Conv2D)            (None, 7, 7, 25)          11275     \n",
      "_________________________________________________________________\n",
      "batch_normalization_8 (Batch (None, 7, 7, 25)          100       \n",
      "_________________________________________________________________\n",
      "max_pooling2d_8 (MaxPooling2 (None, 4, 4, 25)          0         \n",
      "_________________________________________________________________\n",
      "flatten_2 (Flatten)          (None, 400)               0         \n",
      "_________________________________________________________________\n",
      "dense_4 (Dense)              (None, 512)               205312    \n",
      "_________________________________________________________________\n",
      "dropout_5 (Dropout)          (None, 512)               0         \n",
      "_________________________________________________________________\n",
      "dense_5 (Dense)              (None, 24)                12312     \n",
      "=================================================================\n",
      "Total params: 264,049\n",
      "Trainable params: 263,749\n",
      "Non-trainable params: 300\n",
      "_________________________________________________________________\n"
     ]
    }
   ],
   "source": [
    "model = Sequential()\n",
    "model.add(Conv2D(75 , (3,3) , strides = 1 , padding = 'same' , activation = 'relu' , input_shape = (28,28,1)))\n",
    "model.add(BatchNormalization())\n",
    "model.add(MaxPool2D((2,2) , strides = 2 , padding = 'same'))\n",
    "model.add(Conv2D(50 , (3,3) , strides = 1 , padding = 'same' , activation = 'relu'))\n",
    "model.add(Dropout(0.2))\n",
    "model.add(BatchNormalization())\n",
    "model.add(MaxPool2D((2,2) , strides = 2 , padding = 'same'))\n",
    "model.add(Conv2D(25 , (3,3) , strides = 1 , padding = 'same' , activation = 'relu'))\n",
    "model.add(BatchNormalization())\n",
    "model.add(MaxPool2D((2,2) , strides = 2 , padding = 'same'))\n",
    "model.add(Flatten())\n",
    "model.add(Dense(units = 512 , activation = 'relu'))\n",
    "model.add(Dropout(0.3))\n",
    "model.add(Dense(units = 24 , activation = 'softmax'))\n",
    "model.compile(optimizer = 'adam' , loss = 'categorical_crossentropy' , metrics = ['accuracy'])\n",
    "model.summary()\n"
   ]
  },
  {
   "cell_type": "markdown",
   "metadata": {},
   "source": [
    "## Hyperparameters for training"
   ]
  },
  {
   "cell_type": "code",
   "execution_count": 92,
   "metadata": {},
   "outputs": [],
   "source": [
    "batch_size = 100\n",
    "num_epoch = 20"
   ]
  },
  {
   "cell_type": "code",
   "execution_count": 93,
   "metadata": {},
   "outputs": [
    {
     "name": "stdout",
     "output_type": "stream",
     "text": [
      "Epoch 1/20\n",
      "184/184 [==============================] - 6s 35ms/step - loss: 1.9911 - accuracy: 0.3953 - val_loss: 4.5188 - val_accuracy: 0.0377\n",
      "Epoch 2/20\n",
      "184/184 [==============================] - 6s 33ms/step - loss: 0.7852 - accuracy: 0.7354 - val_loss: 3.6530 - val_accuracy: 0.1436\n",
      "Epoch 3/20\n",
      "184/184 [==============================] - 6s 33ms/step - loss: 0.4668 - accuracy: 0.8426 - val_loss: 0.5163 - val_accuracy: 0.8144\n",
      "Epoch 4/20\n",
      "184/184 [==============================] - 6s 33ms/step - loss: 0.3117 - accuracy: 0.8945 - val_loss: 0.1277 - val_accuracy: 0.9610\n",
      "Epoch 5/20\n",
      "184/184 [==============================] - 6s 33ms/step - loss: 0.2313 - accuracy: 0.9206 - val_loss: 0.1088 - val_accuracy: 0.9697\n",
      "Epoch 6/20\n",
      "184/184 [==============================] - 6s 33ms/step - loss: 0.1856 - accuracy: 0.9370 - val_loss: 0.0769 - val_accuracy: 0.9736\n",
      "Epoch 7/20\n",
      "184/184 [==============================] - 6s 33ms/step - loss: 0.1621 - accuracy: 0.9443 - val_loss: 0.0547 - val_accuracy: 0.9837\n",
      "Epoch 8/20\n",
      "184/184 [==============================] - 6s 33ms/step - loss: 0.1452 - accuracy: 0.9517 - val_loss: 0.1114 - val_accuracy: 0.9617\n",
      "Epoch 9/20\n",
      "183/184 [============================>.] - ETA: 0s - loss: 0.1220 - accuracy: 0.9584\n",
      "Epoch 00009: ReduceLROnPlateau reducing learning rate to 0.0005000000237487257.\n",
      "184/184 [==============================] - 6s 33ms/step - loss: 0.1217 - accuracy: 0.9585 - val_loss: 0.1604 - val_accuracy: 0.9437\n",
      "Epoch 10/20\n",
      "184/184 [==============================] - 6s 33ms/step - loss: 0.0823 - accuracy: 0.9735 - val_loss: 0.0143 - val_accuracy: 0.9958\n",
      "Epoch 11/20\n",
      "184/184 [==============================] - 6s 33ms/step - loss: 0.0689 - accuracy: 0.9768 - val_loss: 0.0202 - val_accuracy: 0.9930\n",
      "Epoch 12/20\n",
      "183/184 [============================>.] - ETA: 0s - loss: 0.0593 - accuracy: 0.9802\n",
      "Epoch 00012: ReduceLROnPlateau reducing learning rate to 0.0002500000118743628.\n",
      "184/184 [==============================] - 6s 33ms/step - loss: 0.0595 - accuracy: 0.9802 - val_loss: 0.0230 - val_accuracy: 0.9936\n",
      "Epoch 13/20\n",
      "184/184 [==============================] - 6s 33ms/step - loss: 0.0505 - accuracy: 0.9833 - val_loss: 0.0012 - val_accuracy: 1.0000\n",
      "Epoch 14/20\n",
      "184/184 [==============================] - 6s 33ms/step - loss: 0.0492 - accuracy: 0.9837 - val_loss: 0.0067 - val_accuracy: 0.9988\n",
      "Epoch 15/20\n",
      "183/184 [============================>.] - ETA: 0s - loss: 0.0481 - accuracy: 0.9837\n",
      "Epoch 00015: ReduceLROnPlateau reducing learning rate to 0.0001250000059371814.\n",
      "184/184 [==============================] - 6s 33ms/step - loss: 0.0480 - accuracy: 0.9837 - val_loss: 0.0076 - val_accuracy: 0.9972\n",
      "Epoch 16/20\n",
      "184/184 [==============================] - 6s 33ms/step - loss: 0.0410 - accuracy: 0.9878 - val_loss: 9.4818e-04 - val_accuracy: 1.0000\n",
      "Epoch 17/20\n",
      "183/184 [============================>.] - ETA: 0s - loss: 0.0394 - accuracy: 0.9882\n",
      "Epoch 00017: ReduceLROnPlateau reducing learning rate to 0.0001.\n",
      "184/184 [==============================] - 6s 33ms/step - loss: 0.0394 - accuracy: 0.9883 - val_loss: 0.0013 - val_accuracy: 0.9999\n",
      "Epoch 18/20\n",
      "184/184 [==============================] - 6s 33ms/step - loss: 0.0379 - accuracy: 0.9886 - val_loss: 0.0011 - val_accuracy: 1.0000\n",
      "Epoch 19/20\n",
      "184/184 [==============================] - 6s 33ms/step - loss: 0.0331 - accuracy: 0.9894 - val_loss: 0.0011 - val_accuracy: 1.0000\n",
      "Epoch 20/20\n",
      "184/184 [==============================] - 6s 33ms/step - loss: 0.0366 - accuracy: 0.9883 - val_loss: 7.9045e-04 - val_accuracy: 1.0000\n"
     ]
    }
   ],
   "source": [
    "result = model.fit(datagen.flow(x_train,y_train, batch_size = batch_size) , \\\n",
    "                    epochs = num_epoch , validation_data = (x_valid, y_valid) , callbacks = [learning_rate_reduction])"
   ]
  },
  {
   "cell_type": "code",
   "execution_count": 86,
   "metadata": {},
   "outputs": [
    {
     "name": "stdout",
     "output_type": "stream",
     "text": [
      "225/225 [==============================] - 1s 3ms/step - loss: 0.0035 - accuracy: 0.9993\n",
      "Accuracy of the model is -  99.9302864074707 %\n"
     ]
    }
   ],
   "source": [
    "print(\"Accuracy of the model is - \" , model.evaluate(x_test,y_test)[1]*100 , \"%\")"
   ]
  },
  {
   "cell_type": "markdown",
   "metadata": {},
   "source": [
    "## Visualize Accuracy and Loss"
   ]
  },
  {
   "cell_type": "code",
   "execution_count": 94,
   "metadata": {},
   "outputs": [
    {
     "data": {
      "image/png": "[encoded data removed]",
      "text/plain": [
       "<Figure size 1152x648 with 2 Axes>"
      ]
     },
     "metadata": {},
     "output_type": "display_data"
    }
   ],
   "source": [
    "epochs = [i for i in range(num_epoch)]\n",
    "fig , ax = plt.subplots(1,2)\n",
    "train_acc = result.history['accuracy']\n",
    "train_loss = result.history['loss']\n",
    "val_acc = result.history['val_accuracy']\n",
    "val_loss = result.history['val_loss']\n",
    "fig.set_size_inches(16,9)\n",
    "\n",
    "ax[0].plot(epochs , train_acc , 'go-' , label = 'Training Accuracy')\n",
    "ax[0].plot(epochs , val_acc , 'ro-' , label = 'Testing Accuracy')\n",
    "ax[0].set_title('Accuracy VS Epoch')\n",
    "ax[0].legend()\n",
    "ax[0].set_xlabel(\"Epochs\")\n",
    "ax[0].set_ylabel(\"Accuracy\")\n",
    "\n",
    "ax[1].plot(epochs , train_loss , 'g-o' , label = 'Training Loss')\n",
    "ax[1].plot(epochs , val_loss , 'r-o' , label = 'Testing Loss')\n",
    "ax[1].set_title('Loss VS Epoch')\n",
    "ax[1].legend()\n",
    "ax[1].set_xlabel(\"Epochs\")\n",
    "ax[1].set_ylabel(\"Loss\")\n",
    "plt.show()"
   ]
  },
  {
   "cell_type": "markdown",
   "metadata": {},
   "source": [
    "Accuracy is 0.9998 which is almost perfect, as well as the loss approaching to 0."
   ]
  },
  {
   "cell_type": "markdown",
   "metadata": {},
   "source": [
    "## Check the result"
   ]
  },
  {
   "cell_type": "code",
   "execution_count": 96,
   "metadata": {},
   "outputs": [
    {
     "data": {
      "text/plain": [
       "array([6, 5, 9, 0, 3])"
      ]
     },
     "execution_count": 96,
     "metadata": {},
     "output_type": "execute_result"
    }
   ],
   "source": [
    "predictions = np.argmax(model.predict(x_test), axis=-1)\n",
    "predictions[:5]  \n"
   ]
  },
  {
   "cell_type": "code",
   "execution_count": 97,
   "metadata": {},
   "outputs": [],
   "source": [
    "y = y_test.argmax(axis=1)"
   ]
  },
  {
   "cell_type": "code",
   "execution_count": 98,
   "metadata": {},
   "outputs": [
    {
     "data": {
      "text/plain": [
       "(7172,)"
      ]
     },
     "execution_count": 98,
     "metadata": {},
     "output_type": "execute_result"
    }
   ],
   "source": [
    "y.shape"
   ]
  },
  {
   "cell_type": "code",
   "execution_count": 99,
   "metadata": {},
   "outputs": [
    {
     "data": {
      "text/plain": [
       "(7172,)"
      ]
     },
     "execution_count": 99,
     "metadata": {},
     "output_type": "execute_result"
    }
   ],
   "source": [
    "predictions.shape"
   ]
  },
  {
   "cell_type": "code",
   "execution_count": 100,
   "metadata": {},
   "outputs": [
    {
     "name": "stdout",
     "output_type": "stream",
     "text": [
      "              precision    recall  f1-score   support\n",
      "\n",
      "     Class 0       1.00      1.00      1.00       331\n",
      "     Class 1       1.00      1.00      1.00       432\n",
      "     Class 2       1.00      1.00      1.00       310\n",
      "     Class 3       1.00      0.96      0.98       245\n",
      "     Class 4       0.98      1.00      0.99       498\n",
      "     Class 5       1.00      1.00      1.00       247\n",
      "     Class 6       1.00      1.00      1.00       348\n",
      "     Class 7       1.00      1.00      1.00       436\n",
      "     Class 8       1.00      1.00      1.00       288\n",
      "    Class 10       1.00      1.00      1.00       331\n",
      "    Class 11       1.00      1.00      1.00       209\n",
      "    Class 12       1.00      1.00      1.00       394\n",
      "    Class 13       1.00      1.00      1.00       291\n",
      "    Class 14       1.00      1.00      1.00       246\n",
      "    Class 15       1.00      1.00      1.00       347\n",
      "    Class 16       1.00      1.00      1.00       164\n",
      "    Class 17       1.00      1.00      1.00       144\n",
      "    Class 18       1.00      1.00      1.00       246\n",
      "    Class 19       1.00      1.00      1.00       248\n",
      "    Class 20       1.00      1.00      1.00       266\n",
      "    Class 21       1.00      1.00      1.00       346\n",
      "    Class 22       1.00      1.00      1.00       206\n",
      "    Class 23       1.00      1.00      1.00       267\n",
      "    Class 24       1.00      1.00      1.00       332\n",
      "\n",
      "    accuracy                           1.00      7172\n",
      "   macro avg       1.00      1.00      1.00      7172\n",
      "weighted avg       1.00      1.00      1.00      7172\n",
      "\n"
     ]
    }
   ],
   "source": [
    "classes = [\"Class \" + str(i) for i in range(25) if i != 9]\n",
    "print(classification_report(y, predictions, target_names = classes))"
   ]
  },
  {
   "cell_type": "markdown",
   "metadata": {},
   "source": [
    "Only label 4 (letter E) is not 100% correct."
   ]
  },
  {
   "cell_type": "code",
   "execution_count": 103,
   "metadata": {},
   "outputs": [],
   "source": [
    "correct = np.nonzero(predictions == y)[0]"
   ]
  },
  {
   "cell_type": "markdown",
   "metadata": {},
   "source": [
    "## Visualize Result"
   ]
  },
  {
   "cell_type": "code",
   "execution_count": 105,
   "metadata": {},
   "outputs": [
    {
     "data": {
      "image/png": "[encoded data removed]",
      "text/plain": [
       "<Figure size 432x288 with 6 Axes>"
      ]
     },
     "metadata": {},
     "output_type": "display_data"
    }
   ],
   "source": [
    "i = 0\n",
    "for c in correct[10:16]:\n",
    "    plt.subplot(3,2,i+1)\n",
    "    plt.imshow(x_test[c].reshape(28,28), cmap=\"gray\", interpolation='none')\n",
    "    plt.title(\"Predicted Class {},Actual Class {}\".format(predictions[c], y[c]))\n",
    "#     plt.tight_layout()\n",
    "    i += 1"
   ]
  },
  {
   "cell_type": "code",
   "execution_count": null,
   "metadata": {},
   "outputs": [],
   "source": []
  }
 ],
 "metadata": {
  "kernelspec": {
   "display_name": "Python 3",
   "language": "python",
   "name": "python3"
  },
  "language_info": {
   "codemirror_mode": {
    "name": "ipython",
    "version": 3
   },
   "file_extension": ".py",
   "mimetype": "text/x-python",
   "name": "python",
   "nbconvert_exporter": "python",
   "pygments_lexer": "ipython3",
   "version": "3.6.9"
  }
 },
 "nbformat": 4,
 "nbformat_minor": 4
}
